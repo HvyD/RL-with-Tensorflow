{
 "cells": [
  {
   "cell_type": "code",
   "execution_count": 1,
   "metadata": {},
   "outputs": [],
   "source": [
    "import numpy as np\n",
    "import tensorflow as tf\n",
    "\n",
    "from hmm import HMM"
   ]
  },
  {
   "cell_type": "code",
   "execution_count": 2,
   "metadata": {},
   "outputs": [],
   "source": [
    "def forward_algorithm(sess, hmm, observations):\n",
    "    fwd = sess.run(hmm.forward_init_op(), feed_dict={hmm.obs: observations[0]})\n",
    "    for t in range(1, len(observations)):\n",
    "        fwd = sess.run(hmm.forward_op(), feed_dict={hmm.obs: observations[t], hmm.fwd: fwd})\n",
    "    prob = sess.run(tf.reduce_sum(fwd))\n",
    "    return prob"
   ]
  },
  {
   "cell_type": "markdown",
   "metadata": {},
   "source": [
    "## Viterbi"
   ]
  },
  {
   "cell_type": "code",
   "execution_count": 5,
   "metadata": {},
   "outputs": [],
   "source": [
    "def viterbi(sess, hmm, observations):\n",
    "    viterbi = sess.run(hmm.forward_init_op(), feed_dict={hmm.obs: observations[0]})\n",
    "    backpts = np.ones((hmm.N, len(observations)), 'int32') * -1\n",
    "    for t in range(1, len(observations)):\n",
    "        viterbi, backpt = sess.run([hmm.decode_op(), hmm.backpt_op()],\n",
    "                                    feed_dict={hmm.obs: observations[t],\n",
    "                                               hmm.viterbi: viterbi})\n",
    "        backpts[:, t] = backpt\n",
    "    tokens = [viterbi[:, -1].argmax()]\n",
    "    for i in range(len(observations) - 1, 0, -1):\n",
    "        tokens.append(backpts[tokens[-1], i])\n",
    "    return tokens[::-1]"
   ]
  },
  {
   "cell_type": "code",
   "execution_count": 6,
   "metadata": {
    "scrolled": true
   },
   "outputs": [
    {
     "name": "stdout",
     "output_type": "stream",
     "text": [
      "Probability of observing [0, 1, 1, 2, 1] is 0.0046421488\n",
      "Most likely hidden states are [0, 0, 0, 1, 1]\n"
     ]
    }
   ],
   "source": [
    "if __name__ == '__main__':\n",
    "    states = ('Healthy', 'Fever')\n",
    "    initial_prob = np.array([[0.6], [0.4]])\n",
    "    trans_prob = np.array([[0.7, 0.3], [0.4, 0.6]])\n",
    "    obs_prob = np.array([[0.5, 0.4, 0.1], [0.1, 0.3, 0.6]])\n",
    "    hmm = HMM(initial_prob=initial_prob, trans_prob=trans_prob, obs_prob=obs_prob)\n",
    "\n",
    "    observations = [0, 1, 1, 2, 1]\n",
    "    with tf.Session() as sess:\n",
    "        prob = forward_algorithm(sess, hmm, observations)\n",
    "        print('Probability of observing {} is {}'.format(observations, prob))\n",
    "\n",
    "        seq = viterbi(sess, hmm, observations)\n",
    "        print('Most likely hidden states are {}'.format(seq))"
   ]
  }
 ],
 "metadata": {
  "kernelspec": {
   "display_name": "Python 3",
   "language": "python",
   "name": "python3"
  },
  "language_info": {
   "codemirror_mode": {
    "name": "ipython",
    "version": 3
   },
   "file_extension": ".py",
   "mimetype": "text/x-python",
   "name": "python",
   "nbconvert_exporter": "python",
   "pygments_lexer": "ipython3",
   "version": "3.6.5"
  }
 },
 "nbformat": 4,
 "nbformat_minor": 2
}
